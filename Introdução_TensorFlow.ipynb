{
 "cells": [
  {
   "cell_type": "code",
   "execution_count": 2,
   "id": "188ce051",
   "metadata": {},
   "outputs": [],
   "source": [
    "import tensorflow as tf"
   ]
  },
  {
   "cell_type": "code",
   "execution_count": 10,
   "id": "e45296bb",
   "metadata": {},
   "outputs": [
    {
     "name": "stdout",
     "output_type": "stream",
     "text": [
      "Ola, Mundo!\r\n"
     ]
    }
   ],
   "source": [
    "frase = tf.constant('Ola, Mundo!')\n",
    "tf.print(frase)"
   ]
  },
  {
   "cell_type": "code",
   "execution_count": 11,
   "id": "0106a3d0",
   "metadata": {},
   "outputs": [
    {
     "name": "stdout",
     "output_type": "stream",
     "text": [
      "tf.Tensor(b'Ola, Mundo!', shape=(), dtype=string)\n"
     ]
    }
   ],
   "source": [
    "print(frase)"
   ]
  },
  {
   "cell_type": "code",
   "execution_count": 7,
   "id": "8b904d0c",
   "metadata": {},
   "outputs": [
    {
     "name": "stdout",
     "output_type": "stream",
     "text": [
      "Versão: 2.3.0\n"
     ]
    }
   ],
   "source": [
    "print('Versão: {0}'.format(tf.__version__))"
   ]
  },
  {
   "cell_type": "code",
   "execution_count": 4,
   "id": "6f8981e1",
   "metadata": {},
   "outputs": [
    {
     "data": {
      "text/plain": [
       "<tf.Tensor: shape=(2, 2), dtype=int32, numpy=\n",
       "array([[4, 3],\n",
       "       [6, 1]])>"
      ]
     },
     "execution_count": 4,
     "metadata": {},
     "output_type": "execute_result"
    }
   ],
   "source": [
    "# Create a constant tensor A\n",
    "A = tf.constant([[4, 3], [6, 1]])\n",
    "A"
   ]
  },
  {
   "cell_type": "code",
   "execution_count": 8,
   "id": "0cb3da06",
   "metadata": {},
   "outputs": [
    {
     "data": {
      "text/plain": [
       "<tf.Variable 'Variable:0' shape=(2, 2) dtype=int32, numpy=\n",
       "array([[1, 2],\n",
       "       [3, 4]])>"
      ]
     },
     "execution_count": 8,
     "metadata": {},
     "output_type": "execute_result"
    }
   ],
   "source": [
    "# Create a Variable tensor A\n",
    "B = tf.Variable([[1, 2], [3, 4]])\n",
    "B"
   ]
  },
  {
   "cell_type": "code",
   "execution_count": 9,
   "id": "454a3742",
   "metadata": {},
   "outputs": [
    {
     "data": {
      "text/plain": [
       "<tf.Tensor: shape=(2, 4), dtype=int32, numpy=\n",
       "array([[4, 3, 1, 2],\n",
       "       [6, 1, 3, 4]])>"
      ]
     },
     "execution_count": 9,
     "metadata": {},
     "output_type": "execute_result"
    }
   ],
   "source": [
    "# Concatenate Columns\n",
    "AB_concat = tf.concat(values = [A, B], axis = 1)\n",
    "AB_concat"
   ]
  },
  {
   "cell_type": "code",
   "execution_count": 10,
   "id": "e9c42dfd",
   "metadata": {},
   "outputs": [
    {
     "data": {
      "text/plain": [
       "<tf.Tensor: shape=(4, 2), dtype=int32, numpy=\n",
       "array([[4, 3],\n",
       "       [6, 1],\n",
       "       [1, 2],\n",
       "       [3, 4]])>"
      ]
     },
     "execution_count": 10,
     "metadata": {},
     "output_type": "execute_result"
    }
   ],
   "source": [
    "# Concatenate Lines\n",
    "AB_concat = tf.concat(values = [A, B], axis = 0)\n",
    "AB_concat"
   ]
  },
  {
   "cell_type": "code",
   "execution_count": 11,
   "id": "66471ffd",
   "metadata": {},
   "outputs": [
    {
     "data": {
      "text/plain": [
       "<tf.Tensor: shape=(3, 4), dtype=int32, numpy=\n",
       "array([[0, 0, 0, 0],\n",
       "       [0, 0, 0, 0],\n",
       "       [0, 0, 0, 0]])>"
      ]
     },
     "execution_count": 11,
     "metadata": {},
     "output_type": "execute_result"
    }
   ],
   "source": [
    "tensor = tf.zeros(shape = [3,4], dtype = tf.int32)\n",
    "tensor"
   ]
  },
  {
   "cell_type": "code",
   "execution_count": 12,
   "id": "f66251b0",
   "metadata": {},
   "outputs": [
    {
     "data": {
      "text/plain": [
       "<tf.Tensor: shape=(3, 4), dtype=int32, numpy=\n",
       "array([[1, 1, 1, 1],\n",
       "       [1, 1, 1, 1],\n",
       "       [1, 1, 1, 1]])>"
      ]
     },
     "execution_count": 12,
     "metadata": {},
     "output_type": "execute_result"
    }
   ],
   "source": [
    "tensor = tf.ones(shape = [3,4], dtype = tf.int32)\n",
    "tensor"
   ]
  },
  {
   "cell_type": "code",
   "execution_count": 13,
   "id": "778092e8",
   "metadata": {},
   "outputs": [
    {
     "data": {
      "text/plain": [
       "<tf.Tensor: shape=(4, 3), dtype=int32, numpy=\n",
       "array([[1, 1, 1],\n",
       "       [1, 1, 1],\n",
       "       [1, 1, 1],\n",
       "       [1, 1, 1]])>"
      ]
     },
     "execution_count": 13,
     "metadata": {},
     "output_type": "execute_result"
    }
   ],
   "source": [
    "reshape_tensor = tf.reshape(tensor = tensor, shape = [4,3])\n",
    "reshape_tensor"
   ]
  },
  {
   "cell_type": "code",
   "execution_count": 15,
   "id": "e20cef93",
   "metadata": {},
   "outputs": [
    {
     "data": {
      "text/plain": [
       "<tf.Tensor: shape=(3, 4), dtype=float32, numpy=\n",
       "array([[0.29551315, 0.1913495 , 0.34002388, 0.22078037],\n",
       "       [0.62476635, 0.4635837 , 0.8978201 , 0.48126388],\n",
       "       [0.4291284 , 0.98188305, 0.403957  , 0.4868313 ]], dtype=float32)>"
      ]
     },
     "execution_count": 15,
     "metadata": {},
     "output_type": "execute_result"
    }
   ],
   "source": [
    "tensor_random = tf.random.uniform(shape = [3,4])\n",
    "tensor_random"
   ]
  },
  {
   "cell_type": "code",
   "execution_count": 16,
   "id": "7c528763",
   "metadata": {},
   "outputs": [
    {
     "data": {
      "text/plain": [
       "<tf.Tensor: shape=(4, 3), dtype=float32, numpy=\n",
       "array([[0.29551315, 0.1913495 , 0.34002388],\n",
       "       [0.22078037, 0.62476635, 0.4635837 ],\n",
       "       [0.8978201 , 0.48126388, 0.4291284 ],\n",
       "       [0.98188305, 0.403957  , 0.4868313 ]], dtype=float32)>"
      ]
     },
     "execution_count": 16,
     "metadata": {},
     "output_type": "execute_result"
    }
   ],
   "source": [
    "reshape_tensor = tf.reshape(tensor = tensor_random, shape = [4,3])\n",
    "reshape_tensor"
   ]
  },
  {
   "cell_type": "code",
   "execution_count": 18,
   "id": "582ab97b",
   "metadata": {},
   "outputs": [
    {
     "name": "stdout",
     "output_type": "stream",
     "text": [
      "tf.Tensor(\n",
      "[[4.2 5.8]\n",
      " [7.5 4.5]\n",
      " [8.9 9.4]], shape=(3, 2), dtype=float32)\n",
      "tf.Tensor(\n",
      "[[4 5]\n",
      " [7 4]\n",
      " [8 9]], shape=(3, 2), dtype=int32)\n"
     ]
    }
   ],
   "source": [
    "# Typecast a tensor\n",
    "tensor = tf.constant([[4.2, 5.8], [7.5, 4.5], [8.9, 9.4]], dtype = tf.float32)\n",
    "tensor_as_int = tf.cast(tensor, tf.int32)\n",
    "print(tensor)\n",
    "print(tensor_as_int)"
   ]
  },
  {
   "cell_type": "code",
   "execution_count": 20,
   "id": "32d528a1",
   "metadata": {},
   "outputs": [
    {
     "data": {
      "text/plain": [
       "<tf.Tensor: shape=(2, 3), dtype=int32, numpy=\n",
       "array([[4, 7, 8],\n",
       "       [5, 4, 9]])>"
      ]
     },
     "execution_count": 20,
     "metadata": {},
     "output_type": "execute_result"
    }
   ],
   "source": [
    "# Transpose a tensor\n",
    "a = tf.transpose(tensor_as_int)\n",
    "a"
   ]
  },
  {
   "cell_type": "code",
   "execution_count": 23,
   "id": "a4c4ebd8",
   "metadata": {},
   "outputs": [
    {
     "name": "stdout",
     "output_type": "stream",
     "text": [
      "tf.Tensor(\n",
      "[[ 6]\n",
      " [16]], shape=(2, 1), dtype=int32)\n",
      "tf.Tensor(\n",
      "[[4 8]\n",
      " [3 4]], shape=(2, 2), dtype=int32)\n"
     ]
    }
   ],
   "source": [
    "# Tensor Multiplication\n",
    "A = tf.constant([[1, 2], [3, 4]])\n",
    "V = tf.constant([[4], [1]])\n",
    "AV = tf.matmul(A, V)\n",
    "print(AV)\n",
    "\n",
    "# Element-wise Multiplication\n",
    "AV = tf.multiply(A, V)\n",
    "print(AV)"
   ]
  },
  {
   "cell_type": "code",
   "execution_count": 27,
   "id": "f85d4225",
   "metadata": {},
   "outputs": [
    {
     "name": "stdout",
     "output_type": "stream",
     "text": [
      "rows: 3 columns: 2\n",
      "tf.Tensor(\n",
      "[[1 0]\n",
      " [0 1]\n",
      " [0 0]], shape=(3, 2), dtype=int32)\n",
      "tf.Tensor(\n",
      "[[1 0 0]\n",
      " [0 1 0]\n",
      " [0 0 1]], shape=(3, 3), dtype=int32)\n"
     ]
    }
   ],
   "source": [
    "# Creating a Identity Matrix\n",
    "tensor = tf.constant([[4.2, 5.8], [7.5, 4.5], [8.9, 9.4]])\n",
    "rows, columns = tensor.shape\n",
    "print('rows:', rows, 'columns:', columns)\n",
    "\n",
    "tensor_identity = tf.eye(num_rows = rows, num_columns = columns, dtype = tf.int32)\n",
    "print(tensor_identity)\n",
    "\n",
    "tensor_identity = tf.eye(num_rows = 3, num_columns = 3, dtype = tf.int32)\n",
    "print(tensor_identity)"
   ]
  },
  {
   "cell_type": "code",
   "execution_count": null,
   "id": "00f8e7a8",
   "metadata": {},
   "outputs": [],
   "source": []
  }
 ],
 "metadata": {
  "kernelspec": {
   "display_name": "Python 3",
   "language": "python",
   "name": "python3"
  },
  "language_info": {
   "codemirror_mode": {
    "name": "ipython",
    "version": 3
   },
   "file_extension": ".py",
   "mimetype": "text/x-python",
   "name": "python",
   "nbconvert_exporter": "python",
   "pygments_lexer": "ipython3",
   "version": "3.8.8"
  }
 },
 "nbformat": 4,
 "nbformat_minor": 5
}
